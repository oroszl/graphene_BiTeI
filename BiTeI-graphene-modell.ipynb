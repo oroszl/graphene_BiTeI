{
 "cells": [
  {
   "cell_type": "code",
   "execution_count": 1,
   "metadata": {
    "collapsed": true
   },
   "outputs": [],
   "source": [
    "from sympy import *\n",
    "import sympy"
   ]
  },
  {
   "cell_type": "code",
   "execution_count": 2,
   "metadata": {
    "collapsed": false
   },
   "outputs": [],
   "source": [
    "init_printing()"
   ]
  },
  {
   "cell_type": "code",
   "execution_count": 3,
   "metadata": {
    "collapsed": true
   },
   "outputs": [],
   "source": [
    "m,th,ph,kx,ky=symbols('m theta phi kx ky',positive=True)\n",
    "t,t1,t2,t3,mz=symbols('t t1 t2 t3 mz',positive=True)"
   ]
  },
  {
   "cell_type": "code",
   "execution_count": 4,
   "metadata": {
    "collapsed": true
   },
   "outputs": [],
   "source": [
    "def mataf(h):\n",
    "    'Array flatten a matrix list of appropriate dimensions'\n",
    "    H=Matrix.hstack(*h[0])\n",
    "    for sor in range(1,len(h)):\n",
    "        H=Matrix.vstack(H,Matrix.hstack(*h[sor]))\n",
    "    return H"
   ]
  },
  {
   "cell_type": "code",
   "execution_count": 5,
   "metadata": {
    "collapsed": false
   },
   "outputs": [],
   "source": [
    "S1=sympy.physics.matrices.msigma(1)\n",
    "S2=sympy.physics.matrices.msigma(2)\n",
    "S3=sympy.physics.matrices.msigma(3)\n",
    "S0=S1*S1\n",
    "N=0*S0\n",
    "S=Matrix([[S1],[S2],[S3]])"
   ]
  },
  {
   "cell_type": "code",
   "execution_count": 6,
   "metadata": {
    "collapsed": true
   },
   "outputs": [],
   "source": [
    "a1=Matrix([[sqrt(3)],\n",
    "           [1]])/2\n",
    "a2=Matrix([[-sqrt(3)],\n",
    "           [1]])/2\n",
    "k=Matrix([[kx,ky]])"
   ]
  },
  {
   "cell_type": "code",
   "execution_count": 7,
   "metadata": {
    "collapsed": false
   },
   "outputs": [
    {
     "data": {
      "image/png": "[encoded data removed]",
      "text/latex": [
       "$$\\frac{\\sqrt{3} kx}{2} + \\frac{ky}{2}$$"
      ],
      "text/plain": [
       "√3⋅kx   ky\n",
       "───── + ──\n",
       "  2     2 "
      ]
     },
     "execution_count": 7,
     "metadata": {},
     "output_type": "execute_result"
    }
   ],
   "source": [
    "(k*a1)[0]"
   ]
  },
  {
   "cell_type": "code",
   "execution_count": 8,
   "metadata": {
    "collapsed": true
   },
   "outputs": [],
   "source": [
    "U=mataf([[N,N,N,N,t*S0,t*S0],\n",
    "         [N,N,N,t*S0,t*S0,N],\n",
    "         [N,N,N,t*S0,N,t*S0],\n",
    "         [N,t*S0,t*S0,N,N,N],\n",
    "         [t*S0,t*S0,N,N,N,N],\n",
    "         [t*S0,N,t*S0,N,N,N]])\n",
    "T1=mataf([[N,N,N,N,N,N],\n",
    "          [N,N,N,N,N,t*S0],\n",
    "          [N,N,N,N,N,N],\n",
    "          [N,N,N,N,N,N],\n",
    "          [N,N,N,N,N,N],\n",
    "          [N,N,N,N,N,N]])\n",
    "T2=mataf([[N,N,N,t*S0,N,N],\n",
    "          [N,N,N,N,N,N],\n",
    "          [N,N,N,N,N,N],\n",
    "          [N,N,N,N,N,N],\n",
    "          [N,N,N,N,N,N],\n",
    "          [N,N,N,N,N,N]])\n",
    "T3=mataf([[N,N,N,N,N,N],\n",
    "          [N,N,N,N,N,N],\n",
    "          [N,N,N,N,N,N],\n",
    "          [N,N,N,N,N,N],\n",
    "          [N,N,t*S0,N,N,N],\n",
    "          [N,N,N,N,N,N]])"
   ]
  },
  {
   "cell_type": "code",
   "execution_count": 9,
   "metadata": {
    "collapsed": false
   },
   "outputs": [],
   "source": [
    "H=U+exp(I*(k*a1)[0])*T1+exp(I*(k*a2)[0])*T2+exp(I*(k*(a1+a2))[0])*T3+\\\n",
    "   (exp(I*(k*a1)[0])*T1+exp(I*(k*a2)[0])*T2+exp(I*(k*(a1+a2))[0])*T3).H"
   ]
  },
  {
   "cell_type": "code",
   "execution_count": 10,
   "metadata": {
    "collapsed": false
   },
   "outputs": [],
   "source": [
    "HG=(((H).subs(kx,0)).subs(ky,0))\n",
    "HM=(((H).subs(kx,2*pi/sqrt(3))).subs(ky,0))"
   ]
  },
  {
   "cell_type": "code",
   "execution_count": 11,
   "metadata": {
    "collapsed": false
   },
   "outputs": [
    {
     "data": {
      "image/png": "[encoded data removed]",
      "text/latex": [
       "$$\\left \\{ - 2 t : 4, \\quad - t : 2, \\quad t : 2, \\quad 2 t : 4\\right \\}$$"
      ],
      "text/plain": [
       "{-2⋅t: 4, -t: 2, t: 2, 2⋅t: 4}"
      ]
     },
     "execution_count": 11,
     "metadata": {},
     "output_type": "execute_result"
    }
   ],
   "source": [
    "HM.eigenvals()"
   ]
  },
  {
   "cell_type": "code",
   "execution_count": 12,
   "metadata": {
    "collapsed": false
   },
   "outputs": [
    {
     "data": {
      "image/png": "[encoded data removed]",
      "text/latex": [
       "$$\\left \\{ 0 : 8, \\quad - 3 t : 2, \\quad 3 t : 2\\right \\}$$"
      ],
      "text/plain": [
       "{0: 8, -3⋅t: 2, 3⋅t: 2}"
      ]
     },
     "execution_count": 12,
     "metadata": {},
     "output_type": "execute_result"
    }
   ],
   "source": [
    "HG.eigenvals()"
   ]
  },
  {
   "cell_type": "code",
   "execution_count": 16,
   "metadata": {
    "collapsed": false
   },
   "outputs": [
    {
     "data": {
      "text/plain": [
       "'Matrix([[0, 0, 0, 0, 0, 0, t*exp(I*(-sqrt(3)*kx/2 + ky/2)), 0, t, 0, t, 0], [0, 0, 0, 0, 0, 0, 0, t*exp(I*(-sqrt(3)*kx/2 + ky/2)), 0, t, 0, t], [0, 0, 0, 0, 0, 0, t, 0, t, 0, t*exp(I*(sqrt(3)*kx/2 + ky/2)), 0], [0, 0, 0, 0, 0, 0, 0, t, 0, t, 0, t*exp(I*(sqrt(3)*kx/2 + ky/2))], [0, 0, 0, 0, 0, 0, t, 0, t*exp(-I*ky), 0, t, 0], [0, 0, 0, 0, 0, 0, 0, t, 0, t*exp(-I*ky), 0, t], [t*exp(-I*(-sqrt(3)*kx/2 + ky/2)), 0, t, 0, t, 0, 0, 0, 0, 0, 0, 0], [0, t*exp(-I*(-sqrt(3)*kx/2 + ky/2)), 0, t, 0, t, 0, 0, 0, 0, 0, 0], [t, 0, t, 0, t*exp(I*ky), 0, 0, 0, 0, 0, 0, 0], [0, t, 0, t, 0, t*exp(I*ky), 0, 0, 0, 0, 0, 0], [t, 0, t*exp(-I*(sqrt(3)*kx/2 + ky/2)), 0, t, 0, 0, 0, 0, 0, 0, 0], [0, t, 0, t*exp(-I*(sqrt(3)*kx/2 + ky/2)), 0, t, 0, 0, 0, 0, 0, 0]])'"
      ]
     },
     "execution_count": 16,
     "metadata": {},
     "output_type": "execute_result"
    }
   ],
   "source": [
    "str(H)"
   ]
  }
 ],
 "metadata": {
  "kernelspec": {
   "display_name": "Python 3",
   "language": "python",
   "name": "python3"
  },
  "language_info": {
   "codemirror_mode": {
    "name": "ipython",
    "version": 3
   },
   "file_extension": ".py",
   "mimetype": "text/x-python",
   "name": "python",
   "nbconvert_exporter": "python",
   "pygments_lexer": "ipython3",
   "version": "3.5.1"
  }
 },
 "nbformat": 4,
 "nbformat_minor": 0
}
