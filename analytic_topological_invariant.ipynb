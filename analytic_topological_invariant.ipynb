{
 "cells": [
  {
   "cell_type": "code",
   "execution_count": 1,
   "metadata": {
    "collapsed": true
   },
   "outputs": [],
   "source": [
    "from sympy import *\n",
    "import sympy"
   ]
  },
  {
   "cell_type": "code",
   "execution_count": 2,
   "metadata": {
    "collapsed": true
   },
   "outputs": [],
   "source": [
    "init_printing()"
   ]
  },
  {
   "cell_type": "code",
   "execution_count": 3,
   "metadata": {
    "collapsed": true
   },
   "outputs": [],
   "source": [
    "m,th,ph,kx,ky=symbols('m theta phi kx ky',positive=True)\n",
    "mi,mz=symbols('m_i,m_z',positive=True)"
   ]
  },
  {
   "cell_type": "code",
   "execution_count": 4,
   "metadata": {
    "collapsed": true
   },
   "outputs": [],
   "source": [
    "def mataf(h):\n",
    "    'Array flatten a matrix list of appropriate dimensions'\n",
    "    H=Matrix.hstack(*h[0])\n",
    "    for sor in range(1,len(h)):\n",
    "        H=Matrix.vstack(H,Matrix.hstack(*h[sor]))\n",
    "    return H"
   ]
  },
  {
   "cell_type": "code",
   "execution_count": 5,
   "metadata": {
    "collapsed": false
   },
   "outputs": [],
   "source": [
    "S1=sympy.physics.matrices.msigma(1)\n",
    "S2=sympy.physics.matrices.msigma(2)\n",
    "S3=sympy.physics.matrices.msigma(3)\n",
    "S0=S1*S1\n",
    "\n",
    "S=Matrix([[S1],[S2],[S3]])"
   ]
  },
  {
   "cell_type": "code",
   "execution_count": 28,
   "metadata": {
    "collapsed": true
   },
   "outputs": [],
   "source": [
    "mv=m*Matrix([[sin(th)*cos(ph)],\n",
    "             [sin(th)*sin(ph)],\n",
    "             [cos(th)]])\n",
    "\n",
    "mv=0*Matrix([[mi*cos(ph)],\n",
    "             [mi*sin(ph)],\n",
    "             [mz]])\n",
    "\n",
    "\n",
    "#mv=m*Matrix([[0],[0],[1]])"
   ]
  },
  {
   "cell_type": "code",
   "execution_count": 29,
   "metadata": {
    "collapsed": false
   },
   "outputs": [
    {
     "data": {
      "image/png": "[encoded data removed]",
      "text/latex": [
       "$$\\left[\\begin{matrix}0 & 0\\\\0 & 0\\end{matrix}\\right]$$"
      ],
      "text/plain": [
       "⎡0  0⎤\n",
       "⎢    ⎥\n",
       "⎣0  0⎦"
      ]
     },
     "execution_count": 29,
     "metadata": {},
     "output_type": "execute_result"
    }
   ],
   "source": [
    "simplify((mv.T*S)[0])"
   ]
  },
  {
   "cell_type": "code",
   "execution_count": 30,
   "metadata": {
    "collapsed": false
   },
   "outputs": [
    {
     "data": {
      "image/png": "[encoded data removed]",
      "text/latex": [
       "$$\\left[\\begin{matrix}0 & 0\\\\0 & 0\\end{matrix}\\right]$$"
      ],
      "text/plain": [
       "⎡0  0⎤\n",
       "⎢    ⎥\n",
       "⎣0  0⎦"
      ]
     },
     "execution_count": 30,
     "metadata": {},
     "output_type": "execute_result"
    }
   ],
   "source": [
    "simplify(((rot_axis3(-pi/3)*mv).T*S)[0])"
   ]
  },
  {
   "cell_type": "code",
   "execution_count": 67,
   "metadata": {
    "collapsed": true
   },
   "outputs": [],
   "source": [
    "a1=Matrix([[1],\n",
    "           [-sqrt(3)]])/2\n",
    "a2=Matrix([[1],\n",
    "           [sqrt(3)]])/2\n",
    "\n",
    "k=Matrix([[kx],\n",
    "           [ky]])"
   ]
  },
  {
   "cell_type": "code",
   "execution_count": 43,
   "metadata": {
    "collapsed": false
   },
   "outputs": [
    {
     "data": {
      "image/png": "[encoded data removed]",
      "text/latex": [
       "$$\\left[\\begin{matrix}e^{\\frac{i}{2} \\left(kx + \\sqrt{3} ky\\right)}\\end{matrix}\\right]$$"
      ],
      "text/plain": [
       "⎡ ⅈ⋅(kx + √3⋅ky)⎤\n",
       "⎢ ──────────────⎥\n",
       "⎢       2       ⎥\n",
       "⎣ℯ              ⎦"
      ]
     },
     "execution_count": 43,
     "metadata": {},
     "output_type": "execute_result"
    }
   ],
   "source": [
    "sympy.exp(I*k.T*a1)"
   ]
  },
  {
   "cell_type": "code",
   "execution_count": 44,
   "metadata": {
    "collapsed": false
   },
   "outputs": [],
   "source": [
    "U=mataf([[0*S0,S0+I*simplify((mv.T*S)[0])],\n",
    "         [-I*simplify((mv.T*S)[0]),0*S0]])"
   ]
  },
  {
   "cell_type": "code",
   "execution_count": 45,
   "metadata": {
    "collapsed": false
   },
   "outputs": [],
   "source": [
    "Tx=simplify(mataf([[0*S0,S0+I*simplify(((rot_axis3(pi/3)*mv).T*S)[0])],\n",
    "         [0*S0,0*S0]]))\n",
    "Ty=simplify(mataf([[0*S0,S0+I*simplify(((rot_axis3(-pi/3)*mv).T*S)[0])],\n",
    "         [0*S0,0*S0]]))"
   ]
  },
  {
   "cell_type": "code",
   "execution_count": 46,
   "metadata": {
    "collapsed": false
   },
   "outputs": [],
   "source": [
    "H=simplify(U+exp(I*k.T*a1)[0]*Tx+exp(I*k.T*a2)[0]*Ty+exp(-I*k.T*a1)[0]*Tx.H+exp(-I*k.T*a2)[0]*Ty.H)"
   ]
  },
  {
   "cell_type": "code",
   "execution_count": 68,
   "metadata": {
    "collapsed": false
   },
   "outputs": [],
   "source": [
    "A=simplify(Matrix([[0,1+exp(I*k.T*a1)[0]+exp(I*k.T*a2)[0]],\n",
    "                   [1+exp(-I*k.T*a1)[0]+exp(-I*k.T*a2)[0],0]]))\n"
   ]
  },
  {
   "cell_type": "code",
   "execution_count": 70,
   "metadata": {
    "collapsed": false
   },
   "outputs": [
    {
     "data": {
      "image/png": "[encoded data removed]",
      "text/latex": [
       "$$\\left[\\begin{matrix}0 & e^{\\frac{i}{2} \\left(kx - \\sqrt{3} ky\\right)} + e^{\\frac{i}{2} \\left(kx + \\sqrt{3} ky\\right)} + 1\\\\\\left(e^{i kx} + e^{\\frac{i}{2} \\left(kx - \\sqrt{3} ky\\right)} + e^{\\frac{i}{2} \\left(kx + \\sqrt{3} ky\\right)}\\right) e^{- i kx} & 0\\end{matrix}\\right]$$"
      ],
      "text/plain": [
       "⎡                                                     ⅈ⋅(kx - √3⋅ky)    ⅈ⋅(kx \n",
       "⎢                                                     ──────────────    ──────\n",
       "⎢                                                           2                 \n",
       "⎢                        0                           ℯ               + ℯ      \n",
       "⎢                                                                             \n",
       "⎢⎛         ⅈ⋅(kx - √3⋅ky)    ⅈ⋅(kx + √3⋅ky)⎞                                  \n",
       "⎢⎜         ──────────────    ──────────────⎟                                  \n",
       "⎢⎜ ⅈ⋅kx          2                 2       ⎟  -ⅈ⋅kx                           \n",
       "⎣⎝ℯ     + ℯ               + ℯ              ⎠⋅ℯ                         0      \n",
       "\n",
       "+ √3⋅ky)    ⎤\n",
       "────────    ⎥\n",
       "2           ⎥\n",
       "         + 1⎥\n",
       "            ⎥\n",
       "            ⎥\n",
       "            ⎥\n",
       "            ⎥\n",
       "            ⎦"
      ]
     },
     "execution_count": 70,
     "metadata": {},
     "output_type": "execute_result"
    }
   ],
   "source": [
    "A"
   ]
  },
  {
   "cell_type": "code",
   "execution_count": null,
   "metadata": {
    "collapsed": true
   },
   "outputs": [],
   "source": []
  }
 ],
 "metadata": {
  "hide_input": false,
  "kernelspec": {
   "display_name": "Python 3",
   "language": "python",
   "name": "python3"
  },
  "language_info": {
   "codemirror_mode": {
    "name": "ipython",
    "version": 3
   },
   "file_extension": ".py",
   "mimetype": "text/x-python",
   "name": "python",
   "nbconvert_exporter": "python",
   "pygments_lexer": "ipython3",
   "version": "3.4.3"
  },
  "latex_envs": {
   "bibliofile": "biblio.bib",
   "cite_by": "apalike",
   "current_citInitial": 1,
   "eqLabelWithNumbers": true,
   "eqNumInitial": 0
  }
 },
 "nbformat": 4,
 "nbformat_minor": 0
}
