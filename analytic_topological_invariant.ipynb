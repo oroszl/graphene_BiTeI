{
 "cells": [
  {
   "cell_type": "code",
   "execution_count": 1,
   "metadata": {
    "collapsed": true
   },
   "outputs": [],
   "source": [
    "from sympy import *\n",
    "import sympy"
   ]
  },
  {
   "cell_type": "code",
   "execution_count": 2,
   "metadata": {
    "collapsed": true
   },
   "outputs": [],
   "source": [
    "init_printing()"
   ]
  },
  {
   "cell_type": "code",
   "execution_count": 3,
   "metadata": {
    "collapsed": true
   },
   "outputs": [],
   "source": [
    "m,th,ph,kx,ky=symbols('m theta phi kx ky',positive=True)"
   ]
  },
  {
   "cell_type": "code",
   "execution_count": 4,
   "metadata": {
    "collapsed": true
   },
   "outputs": [],
   "source": [
    "def mataf(h):\n",
    "    'Array flatten a matrix list of appropriate dimensions'\n",
    "    H=Matrix.hstack(*h[0])\n",
    "    for sor in range(1,len(h)):\n",
    "        H=Matrix.vstack(H,Matrix.hstack(*h[sor]))\n",
    "    return H"
   ]
  },
  {
   "cell_type": "code",
   "execution_count": 19,
   "metadata": {
    "collapsed": false
   },
   "outputs": [],
   "source": [
    "S1=sympy.physics.matrices.msigma(1)\n",
    "S2=sympy.physics.matrices.msigma(2)\n",
    "S3=sympy.physics.matrices.msigma(3)\n",
    "S0=S1*S1\n",
    "\n",
    "S=Matrix([[S1],[S2],[S3]])"
   ]
  },
  {
   "cell_type": "code",
   "execution_count": 84,
   "metadata": {
    "collapsed": true
   },
   "outputs": [],
   "source": [
    "mv=m*Matrix([[sin(th)*cos(ph)],\n",
    "             [sin(th)*sin(ph)],\n",
    "             [cos(th)]])\n",
    "#mv=m*Matrix([[0],[0],[1]])"
   ]
  },
  {
   "cell_type": "code",
   "execution_count": 85,
   "metadata": {
    "collapsed": false
   },
   "outputs": [
    {
     "data": {
      "text/latex": [
       "$$\\left[\\begin{matrix}m \\cos{\\left (\\theta \\right )} & m e^{- i \\phi} \\sin{\\left (\\theta \\right )}\\\\m e^{i \\phi} \\sin{\\left (\\theta \\right )} & - m \\cos{\\left (\\theta \\right )}\\end{matrix}\\right]$$"
      ],
      "text/plain": [
       "⎡                  -ⅈ⋅φ       ⎤\n",
       "⎢  m⋅cos(θ)     m⋅ℯ    ⋅sin(θ)⎥\n",
       "⎢                             ⎥\n",
       "⎢   ⅈ⋅φ                       ⎥\n",
       "⎣m⋅ℯ   ⋅sin(θ)    -m⋅cos(θ)   ⎦"
      ]
     },
     "execution_count": 85,
     "metadata": {},
     "output_type": "execute_result"
    }
   ],
   "source": [
    "simplify((mv.T*S)[0])"
   ]
  },
  {
   "cell_type": "code",
   "execution_count": 86,
   "metadata": {
    "collapsed": false
   },
   "outputs": [
    {
     "data": {
      "text/latex": [
       "$$\\left[\\begin{matrix}m \\cos{\\left (\\theta \\right )} & m e^{i \\left(- \\phi - \\frac{\\pi}{3}\\right)} \\sin{\\left (\\theta \\right )}\\\\m e^{i \\left(\\phi + \\frac{\\pi}{3}\\right)} \\sin{\\left (\\theta \\right )} & - m \\cos{\\left (\\theta \\right )}\\end{matrix}\\right]$$"
      ],
      "text/plain": [
       "⎡                          ⎛     π⎞       ⎤\n",
       "⎢                        ⅈ⋅⎜-φ - ─⎟       ⎥\n",
       "⎢                          ⎝     3⎠       ⎥\n",
       "⎢     m⋅cos(θ)        m⋅ℯ          ⋅sin(θ)⎥\n",
       "⎢                                         ⎥\n",
       "⎢     ⎛    π⎞                             ⎥\n",
       "⎢   ⅈ⋅⎜φ + ─⎟                             ⎥\n",
       "⎢     ⎝    3⎠                             ⎥\n",
       "⎣m⋅ℯ         ⋅sin(θ)       -m⋅cos(θ)      ⎦"
      ]
     },
     "execution_count": 86,
     "metadata": {},
     "output_type": "execute_result"
    }
   ],
   "source": [
    "simplify(((rot_axis3(-pi/3)*mv).T*S)[0])"
   ]
  },
  {
   "cell_type": "code",
   "execution_count": 87,
   "metadata": {
    "collapsed": true
   },
   "outputs": [],
   "source": [
    "a1=Matrix([[1],\n",
    "           [sqrt(3)]])/2\n",
    "a2=Matrix([[1],\n",
    "           [sqrt(3)]])/2\n",
    "\n",
    "k=Matrix([[kx],\n",
    "           [ky]])"
   ]
  },
  {
   "cell_type": "code",
   "execution_count": 88,
   "metadata": {
    "collapsed": false
   },
   "outputs": [
    {
     "data": {
      "text/latex": [
       "$$\\left[\\begin{matrix}e^{\\frac{i}{2} \\left(kx + \\sqrt{3} ky\\right)}\\end{matrix}\\right]$$"
      ],
      "text/plain": [
       "⎡ ⅈ⋅(kx + √3⋅ky)⎤\n",
       "⎢ ──────────────⎥\n",
       "⎢       2       ⎥\n",
       "⎣ℯ              ⎦"
      ]
     },
     "execution_count": 88,
     "metadata": {},
     "output_type": "execute_result"
    }
   ],
   "source": [
    "sympy.exp(I*k.T*a1)"
   ]
  },
  {
   "cell_type": "code",
   "execution_count": 89,
   "metadata": {
    "collapsed": false
   },
   "outputs": [],
   "source": [
    "U=mataf([[0*S0,simplify((mv.T*S)[0])],\n",
    "         [-simplify((mv.T*S)[0]),0*S0]])"
   ]
  },
  {
   "cell_type": "code",
   "execution_count": 90,
   "metadata": {
    "collapsed": false
   },
   "outputs": [],
   "source": [
    "Tx=mataf([[0*S0,simplify(((rot_axis3(pi/3)*mv).T*S)[0])],\n",
    "         [0*S0,0*S0]])\n",
    "Ty=mataf([[0*S0,simplify(((rot_axis3(-pi/3)*mv).T*S)[0])],\n",
    "         [0*S0,0*S0]])"
   ]
  },
  {
   "cell_type": "code",
   "execution_count": 91,
   "metadata": {
    "collapsed": false
   },
   "outputs": [],
   "source": [
    "H=simplify(U+exp(I*k.T*a1)[0]*Tx+exp(I*k.T*a2)[0]*Ty+exp(-I*k.T*a1)[0]*Tx.H+exp(-I*k.T*a2)[0]*Ty.H)"
   ]
  },
  {
   "cell_type": "code",
   "execution_count": 93,
   "metadata": {
    "collapsed": false
   },
   "outputs": [
    {
     "data": {
      "text/latex": [
       "$$\\left[\\begin{matrix}m \\left(2 e^{\\frac{i}{2} \\left(kx + \\sqrt{3} ky\\right)} + 1\\right) \\cos{\\left (\\theta \\right )} & m \\left(\\left(\\sin{\\left (\\phi + \\frac{\\pi}{6} \\right )} + i \\cos{\\left (\\phi + \\frac{\\pi}{6} \\right )}\\right) e^{\\frac{i}{6} \\left(3 kx + 3 \\sqrt{3} ky + 12 \\phi + 2 \\pi\\right)} + e^{\\frac{i}{3} \\left(3 \\phi + \\pi\\right)} + e^{\\frac{i}{2} \\left(kx + \\sqrt{3} ky + 2 \\phi\\right)}\\right) e^{- \\frac{i}{3} \\left(6 \\phi + \\pi\\right)} \\sin{\\left (\\theta \\right )}\\\\m \\left(\\left(\\sin{\\left (\\phi + \\frac{\\pi}{6} \\right )} - i \\cos{\\left (\\phi + \\frac{\\pi}{6} \\right )}\\right) e^{\\frac{i}{2} \\left(kx + \\sqrt{3} ky\\right)} + e^{i \\phi} + e^{\\frac{i}{6} \\left(3 kx + 3 \\sqrt{3} ky + 6 \\phi + 2 \\pi\\right)}\\right) \\sin{\\left (\\theta \\right )} & - m \\left(2 e^{\\frac{i}{2} \\left(kx + \\sqrt{3} ky\\right)} + 1\\right) \\cos{\\left (\\theta \\right )}\\end{matrix}\\right]$$"
      ],
      "text/plain": [
       "⎡                                 ⎛   ⅈ⋅(kx + √3⋅ky)    ⎞                     \n",
       "⎢                                 ⎜   ──────────────    ⎟                     \n",
       "⎢                                 ⎜         2           ⎟                     \n",
       "⎢                               m⋅⎝2⋅ℯ               + 1⎠⋅cos(θ)              \n",
       "⎢                                                                             \n",
       "⎢                                                                             \n",
       "⎢  ⎛                             ⅈ⋅(kx + √3⋅ky)           ⅈ⋅(3⋅kx + 3⋅√3⋅ky + \n",
       "⎢  ⎜                             ──────────────           ────────────────────\n",
       "⎢  ⎜⎛   ⎛    π⎞        ⎛    π⎞⎞        2           ⅈ⋅φ                  6     \n",
       "⎢m⋅⎜⎜sin⎜φ + ─⎟ - ⅈ⋅cos⎜φ + ─⎟⎟⋅ℯ               + ℯ    + ℯ                    \n",
       "⎣  ⎝⎝   ⎝    6⎠        ⎝    6⎠⎠                                               \n",
       "\n",
       "                      ⎛                             ⅈ⋅(3⋅kx + 3⋅√3⋅ky + 12⋅φ +\n",
       "                      ⎜                             ──────────────────────────\n",
       "                      ⎜⎛   ⎛    π⎞        ⎛    π⎞⎞                 6          \n",
       "                    m⋅⎜⎜sin⎜φ + ─⎟ + ⅈ⋅cos⎜φ + ─⎟⎟⋅ℯ                          \n",
       "                      ⎝⎝   ⎝    6⎠        ⎝    6⎠⎠                            \n",
       "                                                                              \n",
       "6⋅φ + 2⋅π)⎞                                                          ⎛   ⅈ⋅(kx\n",
       "──────────⎟                                                          ⎜   ─────\n",
       "          ⎟                                                          ⎜        \n",
       "          ⎟⋅sin(θ)                                                -m⋅⎝2⋅ℯ     \n",
       "          ⎠                                                                   \n",
       "\n",
       " 2⋅π)    ⅈ⋅(3⋅φ + π)    ⅈ⋅(kx + √3⋅ky + 2⋅φ)⎞  -ⅈ⋅(6⋅φ + π)        ⎤\n",
       "─────    ───────────    ────────────────────⎟  ─────────────       ⎥\n",
       "              3                  2          ⎟        3             ⎥\n",
       "      + ℯ            + ℯ                    ⎟⋅ℯ             ⋅sin(θ)⎥\n",
       "                                            ⎠                      ⎥\n",
       "                                                                   ⎥\n",
       " + √3⋅ky)    ⎞                                                     ⎥\n",
       "─────────    ⎟                                                     ⎥\n",
       " 2           ⎟                                                     ⎥\n",
       "          + 1⎠⋅cos(θ)                                              ⎥\n",
       "                                                                   ⎦"
      ]
     },
     "execution_count": 93,
     "metadata": {},
     "output_type": "execute_result"
    }
   ],
   "source": [
    "H[:2,2:]"
   ]
  }
 ],
 "metadata": {
  "kernelspec": {
   "display_name": "Python 3",
   "language": "python",
   "name": "python3"
  },
  "language_info": {
   "codemirror_mode": {
    "name": "ipython",
    "version": 3
   },
   "file_extension": ".py",
   "mimetype": "text/x-python",
   "name": "python",
   "nbconvert_exporter": "python",
   "pygments_lexer": "ipython3",
   "version": "3.5.1"
  }
 },
 "nbformat": 4,
 "nbformat_minor": 0
}
