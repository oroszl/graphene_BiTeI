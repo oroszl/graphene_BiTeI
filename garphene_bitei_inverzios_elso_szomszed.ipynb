{
 "cells": [
  {
   "cell_type": "code",
   "execution_count": 1,
   "metadata": {
    "collapsed": false
   },
   "outputs": [
    {
     "name": "stdout",
     "output_type": "stream",
     "text": [
      "Populating the interactive namespace from numpy and matplotlib\n"
     ]
    },
    {
     "name": "stderr",
     "output_type": "stream",
     "text": [
      ":0: FutureWarning: IPython widgets are experimental and may change in the future.\n"
     ]
    }
   ],
   "source": [
    "%pylab inline\n",
    "#from ipywidgets import *\n",
    "from IPython.html.widgets import *"
   ]
  },
  {
   "cell_type": "code",
   "execution_count": 2,
   "metadata": {
    "collapsed": true
   },
   "outputs": [],
   "source": [
    "S0=matrix([[1,0],[0,1]])\n",
    "S1=matrix([[0,1],[1,0]])\n",
    "S2=matrix([[0,-1j],[1j,0]])\n",
    "S3=matrix([[1,0],[0,-1]])\n",
    "N=zeros_like(S0);\n",
    "I=1.j"
   ]
  },
  {
   "cell_type": "code",
   "execution_count": 3,
   "metadata": {
    "collapsed": true
   },
   "outputs": [],
   "source": [
    "def matafn(h):\n",
    "    'Array flatten a matrix list of appropriate dimensions'\n",
    "    H=hstack(h[0])\n",
    "    for sor in range(1,len(h)):\n",
    "        H=vstack([H,hstack(h[sor])])\n",
    "    return H"
   ]
  },
  {
   "cell_type": "code",
   "execution_count": 4,
   "metadata": {
    "collapsed": true
   },
   "outputs": [],
   "source": [
    "def wilson_loop(hamfun,*hamargs,\n",
    "                b1=array([2*pi,0]),\n",
    "                b2=array([0,2*pi]),\n",
    "                p1ran=linspace(0,0.5,100),\n",
    "                p2ran=linspace(0,1,7,endpoint=False),\n",
    "                **kwargs):\n",
    "    '''\n",
    "    Calculating Z2 invariant via Wilson loops of slices \n",
    "    of the occupied bands in k-space,\n",
    "    given a function hamfun(kx,ky,*hamargs)\n",
    "    and k space reciprocal lattice vectors b1,b2.\n",
    "    '''\n",
    "    dim=len(hamfun(0,0,*hamargs))\n",
    "    dat=[]\n",
    "    for p1 in p1ran:\n",
    "        WL=eye(dim)\n",
    "        for p2 in p2ran:\n",
    "            kx=(p1*b1+p2*b2)[0]\n",
    "            ky=(p1*b1+p2*b2)[1]\n",
    "            H=hamfun(kx,ky,*hamargs)\n",
    "            eigdat=eigh(H);\n",
    "            #P=eigdat[1][:,eigdat[0]<0]*eigdat[1][:,eigdat[0]<0].H\n",
    "            P=eigdat[1][:,:(dim/2)]*eigdat[1][:,:(dim/2)].H\n",
    "            WL=P*WL\n",
    "        weig=eig(WL);\n",
    "        indx=where(abs(weig[0])>10**-10)[0]\n",
    "        dat.append(sort(angle(weig[0][indx])))       \n",
    "        \n",
    "    return  (p1ran,dat)"
   ]
  },
  {
   "cell_type": "code",
   "execution_count": 59,
   "metadata": {
    "collapsed": true
   },
   "outputs": [],
   "source": [
    "a1=matrix([[sqrt(3)],\n",
    "           [1]])/2\n",
    "a2=matrix([[-sqrt(3)],\n",
    "           [1]])/2\n",
    "\n",
    "def ham_2nn(kx,ky,m,mz):  \n",
    "    t=1;\n",
    "    t1=t#*0.9\n",
    "    t2=t\n",
    "    t3=t\n",
    "    k=matrix([[kx,ky]])\n",
    "    A0=I*m*S1;\n",
    "    A1=I*m/2*(-S1+sqrt(3)*S2);\n",
    "    A2=I*m/2*(-S1-sqrt(3)*S2);\n",
    "    B=I*mz*S3;\n",
    "    \n",
    "    \n",
    "    u=matafn([[       N,      t2*S0+A1+B,        t3*S0+A0+B],\n",
    "             [ t2*S0+A0+B,    t3*S0+A2+B,                 N],\n",
    "             [ t3*S0+A1+B,        N,             t2*S0+A2+B]]);\n",
    "    \n",
    "    U=matafn([[0*u,   u],\n",
    "              [u.H, 0*u]])\n",
    "\n",
    "    T1=matafn([[N,N,N,N,N,N],\n",
    "          [N,N,N,N,N,t1*S0],\n",
    "          [N,N,N,N,N,N],\n",
    "          [N,N,N,N,N,N],\n",
    "          [N,N,N,N,N,N],\n",
    "          [N,N,N,N,N,N]])\n",
    "    T2=matafn([[N,N,N,t1*S0,N,N],\n",
    "          [N,N,N,N,N,N],\n",
    "          [N,N,N,N,N,N],\n",
    "          [N,N,N,N,N,N],\n",
    "          [N,N,N,N,N,N],\n",
    "          [N,N,N,N,N,N]])\n",
    "    T3=matafn([[N,N,N,N,N,N],\n",
    "          [N,N,N,N,N,N],\n",
    "          [N,N,N,N,N,N],\n",
    "          [N,N,N,N,N,N],\n",
    "          [N,N,t1*S0,N,N,N],\n",
    "          [N,N,N,N,N,N]])\n",
    "    H=U+exp(I*(k*a1)[0,0])*T1+exp(I*(k*a2)[0,0])*T2+exp(I*(k*(a1+a2))[0,0])*T3+\\\n",
    "    (exp(I*(k*a1)[0,0])*T1+exp(I*(k*a2)[0,0])*T2+exp(I*(k*(a1+a2))[0,0])*T3).H\n",
    "    \n",
    "    return H"
   ]
  },
  {
   "cell_type": "code",
   "execution_count": 60,
   "metadata": {
    "collapsed": true
   },
   "outputs": [],
   "source": [
    "RI=matafn([[N,N,N,S3,N,N],\n",
    "           [N,N,N,N,N,S3],\n",
    "           [N,N,N,N,S3,N],\n",
    "           [S3,N,N,N,N,N],\n",
    "           [N,N,S3,N,N,N],\n",
    "           [N,S3,N,N,N,N]])"
   ]
  },
  {
   "cell_type": "code",
   "execution_count": 61,
   "metadata": {
    "collapsed": true
   },
   "outputs": [],
   "source": [
    "R0=matafn([[N,N,N,S0,N,N],\n",
    "           [N,N,N,N,N,S0],\n",
    "           [N,N,N,N,S0,N],\n",
    "           [S0,N,N,N,N,N],\n",
    "           [N,N,S0,N,N,N],\n",
    "           [N,S0,N,N,N,N]])"
   ]
  },
  {
   "cell_type": "code",
   "execution_count": 62,
   "metadata": {
    "collapsed": false
   },
   "outputs": [
    {
     "data": {
      "text/plain": [
       "<matplotlib.image.AxesImage at 0x7f6fa0f02748>"
      ]
     },
     "execution_count": 62,
     "metadata": {},
     "output_type": "execute_result"
    },
    {
     "data": {
      "image/png": "[encoded data removed]",
      "text/plain": [
       "<matplotlib.figure.Figure at 0x7f6fa106f780>"
      ]
     },
     "metadata": {},
     "output_type": "display_data"
    }
   ],
   "source": [
    "matshow(abs(RI*ham_2nn(0,0,.56,.345)*RI-ham_2nn(0,0,.56,.345)))"
   ]
  },
  {
   "cell_type": "code",
   "execution_count": 63,
   "metadata": {
    "collapsed": true
   },
   "outputs": [],
   "source": [
    "krany=linspace(-2*pi,0,300)\n",
    "kranx=linspace(0,2*pi/sqrt(3),240)\n",
    "kran=append(krany,kranx)"
   ]
  },
  {
   "cell_type": "code",
   "execution_count": 64,
   "metadata": {
    "collapsed": false
   },
   "outputs": [
    {
     "data": {
      "image/png": "[encoded data removed]",
      "text/plain": [
       "<matplotlib.figure.Figure at 0x7f6fa10bd898>"
      ]
     },
     "metadata": {},
     "output_type": "display_data"
    }
   ],
   "source": [
    "@interact(m=(-1,1,0.001),mz=(0,.8,0.001))\n",
    "def play_2nn(m=0,mz=0):\n",
    "    dat=[]\n",
    "    for kk in krany:\n",
    "        dat.append(eigvalsh(ham_2nn(0,kk,m,mz)))\n",
    "    for kk in kranx:\n",
    "        dat.append(eigvalsh(ham_2nn(kk,0,m,mz)))\n",
    "    plot(kran,dat,'k-');\n",
    "    grid()\n",
    "    xlim(-2*pi,2*pi/sqrt(3));\n",
    "    xticks([-2*pi,-4*pi/3,0,2*pi/sqrt(3)],[r'$M$',r'$K$',r'$\\Gamma$',r'$M$'],fontsize=40);\n",
    "    #yticks(linspace(-9,9,7),list(map(lambda x:r\"$\"+str(x)+r\"\\gamma_0$\" ,(arange(-3,4)) )),fontsize=30)\n",
    "    ylim(-.2,.2);\n",
    "    #xlim(-0.1,0.1);"
   ]
  },
  {
   "cell_type": "code",
   "execution_count": 68,
   "metadata": {
    "collapsed": false
   },
   "outputs": [
    {
     "data": {
      "image/png": "[encoded data removed]",
      "text/plain": [
       "<matplotlib.figure.Figure at 0x7f6fa1430fd0>"
      ]
     },
     "metadata": {},
     "output_type": "display_data"
    }
   ],
   "source": [
    "ran,dat=wilson_loop(ham_2nn,*[2,.012],\n",
    "                    b1=2*pi*array([1/sqrt(3),1]),\n",
    "                    b2=2*pi*array([-1/sqrt(3),1]),\n",
    "                    p1ran=linspace(0,0.5,1000))\n",
    "plot(ran,dat,'k-');"
   ]
  },
  {
   "cell_type": "code",
   "execution_count": null,
   "metadata": {
    "collapsed": true
   },
   "outputs": [],
   "source": []
  }
 ],
 "metadata": {
  "kernelspec": {
   "display_name": "Python 3",
   "language": "python",
   "name": "python3"
  },
  "language_info": {
   "codemirror_mode": {
    "name": "ipython",
    "version": 3
   },
   "file_extension": ".py",
   "mimetype": "text/x-python",
   "name": "python",
   "nbconvert_exporter": "python",
   "pygments_lexer": "ipython3",
   "version": "3.4.0"
  }
 },
 "nbformat": 4,
 "nbformat_minor": 0
}
