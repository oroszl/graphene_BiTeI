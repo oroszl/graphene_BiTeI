{
 "cells": [
  {
   "cell_type": "code",
   "execution_count": 1,
   "metadata": {
    "collapsed": false
   },
   "outputs": [
    {
     "name": "stdout",
     "output_type": "stream",
     "text": [
      "Populating the interactive namespace from numpy and matplotlib\n"
     ]
    }
   ],
   "source": [
    "%pylab inline\n",
    "import sympy\n",
    "sympy.init_printing()"
   ]
  },
  {
   "cell_type": "code",
   "execution_count": 8,
   "metadata": {
    "collapsed": true
   },
   "outputs": [],
   "source": [
    "def mataf(h):\n",
    "    'Array flatten a matrix list of appropriate dimensions'\n",
    "    H=sympy.Matrix.hstack(*h[0])\n",
    "    for sor in range(1,len(h)):\n",
    "        H=sympy.Matrix.vstack(H,sympy.Matrix.hstack(*h[sor]))\n",
    "    return H"
   ]
  },
  {
   "cell_type": "code",
   "execution_count": 9,
   "metadata": {
    "collapsed": true
   },
   "outputs": [],
   "source": [
    "S1=sympy.physics.matrices.msigma(1)\n",
    "S2=sympy.physics.matrices.msigma(2)\n",
    "S3=sympy.physics.matrices.msigma(3)\n",
    "S0=S1*S1\n",
    "N=0*S0\n",
    "S=sympy.Matrix([[S1],[S2],[S3]])"
   ]
  },
  {
   "cell_type": "code",
   "execution_count": 10,
   "metadata": {
    "collapsed": true
   },
   "outputs": [],
   "source": [
    "m,th,ph,kx,ky=sympy.symbols('m theta phi kx ky',positive=True)\n",
    "t,t1,t2,t3,mz=sympy.symbols('t t1 t2 t3 mz',positive=True)"
   ]
  },
  {
   "cell_type": "code",
   "execution_count": 11,
   "metadata": {
    "collapsed": false
   },
   "outputs": [],
   "source": [
    "a1=sympy.Matrix([[sqrt(3)],\n",
    "           [1]])/2\n",
    "a2=sympy.Matrix([[-sqrt(3)],\n",
    "           [1]])/2\n",
    "k=sympy.Matrix([[kx,ky]])"
   ]
  },
  {
   "cell_type": "code",
   "execution_count": 12,
   "metadata": {
    "collapsed": false
   },
   "outputs": [],
   "source": [
    "U=mataf([[N,N,N,N,t*S0,t*S0],\n",
    "         [N,N,N,t*S0,t*S0,N],\n",
    "         [N,N,N,t*S0,N,t*S0],\n",
    "         [N,t*S0,t*S0,N,N,N],\n",
    "         [t*S0,t*S0,N,N,N,N],\n",
    "         [t*S0,N,t*S0,N,N,N]])\n",
    "T1=mataf([[N,N,N,N,N,N],\n",
    "          [N,N,N,N,N,t*S0],\n",
    "          [N,N,N,N,N,N],\n",
    "          [N,N,N,N,N,N],\n",
    "          [N,N,N,N,N,N],\n",
    "          [N,N,N,N,N,N]])\n",
    "T2=mataf([[N,N,N,t*S0,N,N],\n",
    "          [N,N,N,N,N,N],\n",
    "          [N,N,N,N,N,N],\n",
    "          [N,N,N,N,N,N],\n",
    "          [N,N,N,N,N,N],\n",
    "          [N,N,N,N,N,N]])\n",
    "T3=mataf([[N,N,N,N,N,N],\n",
    "          [N,N,N,N,N,N],\n",
    "          [N,N,N,N,N,N],\n",
    "          [N,N,N,N,N,N],\n",
    "          [N,N,t*S0,N,N,N],\n",
    "          [N,N,N,N,N,N]])"
   ]
  },
  {
   "cell_type": "code",
   "execution_count": null,
   "metadata": {
    "collapsed": true
   },
   "outputs": [],
   "source": []
  }
 ],
 "metadata": {
  "kernelspec": {
   "display_name": "Python 3",
   "language": "python",
   "name": "python3"
  },
  "language_info": {
   "codemirror_mode": {
    "name": "ipython",
    "version": 3
   },
   "file_extension": ".py",
   "mimetype": "text/x-python",
   "name": "python",
   "nbconvert_exporter": "python",
   "pygments_lexer": "ipython3",
   "version": "3.4.0"
  }
 },
 "nbformat": 4,
 "nbformat_minor": 0
}
