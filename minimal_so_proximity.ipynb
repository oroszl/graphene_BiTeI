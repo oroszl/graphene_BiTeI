{
 "cells": [
  {
   "cell_type": "code",
   "execution_count": 1,
   "metadata": {
    "collapsed": true
   },
   "outputs": [],
   "source": [
    "import sympy"
   ]
  },
  {
   "cell_type": "code",
   "execution_count": 2,
   "metadata": {
    "collapsed": false
   },
   "outputs": [],
   "source": [
    "from sympy.physics.quantum import TensorProduct as Kron\n",
    "sympy.init_printing(fontsize='6pt')"
   ]
  },
  {
   "cell_type": "code",
   "execution_count": 3,
   "metadata": {
    "collapsed": false
   },
   "outputs": [],
   "source": [
    "#here we define sympy symbols to be used in the analytic calculations\n",
    "g,mu,b,D,k=sympy.symbols('gamma mu B Delta k',real=True)\n",
    "t,d,eps=sympy.symbols('t delta epsilon',real=True)\n",
    "mz=sympy.symbols('m_z',real=True)\n",
    "phi=sympy.symbols('phi',real=True)\n"
   ]
  },
  {
   "cell_type": "code",
   "execution_count": 4,
   "metadata": {
    "collapsed": false
   },
   "outputs": [],
   "source": [
    "#Pauli matrices to be used in symbolic calculations\n",
    "S1=sympy.physics.matrices.msigma(1)\n",
    "S2=sympy.physics.matrices.msigma(2)\n",
    "S3=sympy.physics.matrices.msigma(3)\n",
    "S0=S1*S1\n",
    "T1=sympy.physics.matrices.msigma(1)\n",
    "T2=sympy.physics.matrices.msigma(2)\n",
    "T3=sympy.physics.matrices.msigma(3)\n",
    "T0=T1*T1\n",
    "i=sympy.I\n",
    "\n",
    "wp=sympy.exp(i*phi)\n",
    "wm=sympy.exp(-i*phi)"
   ]
  },
  {
   "cell_type": "code",
   "execution_count": 5,
   "metadata": {
    "collapsed": true
   },
   "outputs": [],
   "source": [
    "H=sympy.Matrix([[0,0,wp,0],\n",
    "                [0,0,0,wm],\n",
    "                [wm,0,0,0],\n",
    "                [0,wp,0,0]])"
   ]
  },
  {
   "cell_type": "code",
   "execution_count": 6,
   "metadata": {
    "collapsed": true
   },
   "outputs": [],
   "source": [
    "P,D=H.diagonalize(normalize=True)"
   ]
  },
  {
   "cell_type": "code",
   "execution_count": 7,
   "metadata": {
    "collapsed": false
   },
   "outputs": [
    {
     "data": {
      "text/latex": [
       "$$\\left[\\begin{matrix}- \\frac{\\sqrt{2}}{2} e^{i \\phi} & 0 & \\frac{\\sqrt{2}}{2} e^{i \\phi} & 0\\\\0 & - \\frac{\\sqrt{2}}{2} e^{- i \\phi} & 0 & \\frac{\\sqrt{2}}{2} e^{- i \\phi}\\\\\\frac{\\sqrt{2}}{2} & 0 & \\frac{\\sqrt{2}}{2} & 0\\\\0 & \\frac{\\sqrt{2}}{2} & 0 & \\frac{\\sqrt{2}}{2}\\end{matrix}\\right]$$"
      ],
      "text/plain": [
       "⎡     ⅈ⋅φ                   ⅈ⋅φ          ⎤\n",
       "⎢-√2⋅ℯ                  √2⋅ℯ             ⎥\n",
       "⎢─────────      0       ───────     0    ⎥\n",
       "⎢    2                     2             ⎥\n",
       "⎢                                        ⎥\n",
       "⎢                -ⅈ⋅φ                -ⅈ⋅φ⎥\n",
       "⎢           -√2⋅ℯ                √2⋅ℯ    ⎥\n",
       "⎢    0      ──────────     0     ────────⎥\n",
       "⎢               2                   2    ⎥\n",
       "⎢                                        ⎥\n",
       "⎢   √2                    √2             ⎥\n",
       "⎢   ──          0         ──        0    ⎥\n",
       "⎢   2                     2              ⎥\n",
       "⎢                                        ⎥\n",
       "⎢               √2                  √2   ⎥\n",
       "⎢    0          ──         0        ──   ⎥\n",
       "⎣               2                   2    ⎦"
      ]
     },
     "execution_count": 7,
     "metadata": {},
     "output_type": "execute_result"
    }
   ],
   "source": [
    "P"
   ]
  },
  {
   "cell_type": "code",
   "execution_count": 8,
   "metadata": {
    "collapsed": false
   },
   "outputs": [
    {
     "data": {
      "text/latex": [
       "$$\\left[\\begin{matrix}-1 & 0 & 0 & 0\\\\0 & -1 & 0 & 0\\\\0 & 0 & 1 & 0\\\\0 & 0 & 0 & 1\\end{matrix}\\right]$$"
      ],
      "text/plain": [
       "⎡-1  0   0  0⎤\n",
       "⎢            ⎥\n",
       "⎢0   -1  0  0⎥\n",
       "⎢            ⎥\n",
       "⎢0   0   1  0⎥\n",
       "⎢            ⎥\n",
       "⎣0   0   0  1⎦"
      ]
     },
     "execution_count": 8,
     "metadata": {},
     "output_type": "execute_result"
    }
   ],
   "source": [
    "P.inv()*H*P"
   ]
  }
 ],
 "metadata": {
  "hide_input": false,
  "kernelspec": {
   "display_name": "Python 3",
   "language": "python",
   "name": "python3"
  },
  "language_info": {
   "codemirror_mode": {
    "name": "ipython",
    "version": 3
   },
   "file_extension": ".py",
   "mimetype": "text/x-python",
   "name": "python",
   "nbconvert_exporter": "python",
   "pygments_lexer": "ipython3",
   "version": "3.5.1"
  },
  "latex_envs": {
   "bibliofile": "biblio.bib",
   "cite_by": "apalike",
   "current_citInitial": 1,
   "eqLabelWithNumbers": true,
   "eqNumInitial": 0
  }
 },
 "nbformat": 4,
 "nbformat_minor": 0
}
