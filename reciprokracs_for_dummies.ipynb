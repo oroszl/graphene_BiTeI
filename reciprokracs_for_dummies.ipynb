{
 "cells": [
  {
   "cell_type": "code",
   "execution_count": 2,
   "metadata": {
    "collapsed": true
   },
   "outputs": [],
   "source": [
    "from sympy import *\n",
    "init_printing()"
   ]
  },
  {
   "cell_type": "code",
   "execution_count": 3,
   "metadata": {
    "collapsed": true
   },
   "outputs": [],
   "source": [
    "a1=Matrix([1,sqrt(3),0])/2\n",
    "a2=Matrix([1,-sqrt(3),0])/2\n",
    "a3=Matrix([0,0,1])"
   ]
  },
  {
   "cell_type": "code",
   "execution_count": 4,
   "metadata": {
    "collapsed": false
   },
   "outputs": [
    {
     "data": {
      "image/png": "[encoded data removed]",
      "text/latex": [
       "$$\\left[\\begin{matrix}2 \\pi\\\\\\frac{2 \\pi}{3} \\sqrt{3}\\\\0\\end{matrix}\\right]$$"
      ],
      "text/plain": [
       "⎡   2⋅π   ⎤\n",
       "⎢         ⎥\n",
       "⎢    ___  ⎥\n",
       "⎢2⋅╲╱ 3 ⋅π⎥\n",
       "⎢─────────⎥\n",
       "⎢    3    ⎥\n",
       "⎢         ⎥\n",
       "⎣    0    ⎦"
      ]
     },
     "execution_count": 4,
     "metadata": {},
     "output_type": "execute_result"
    }
   ],
   "source": [
    "2*pi*(a2.cross(a3))/( a1.dot( a2.cross(a3) ) )"
   ]
  },
  {
   "cell_type": "code",
   "execution_count": 5,
   "metadata": {
    "collapsed": false
   },
   "outputs": [
    {
     "data": {
      "image/png": "[encoded data removed]",
      "text/latex": [
       "$$\\left[\\begin{matrix}2 \\pi\\\\- \\frac{2 \\pi}{3} \\sqrt{3}\\\\0\\end{matrix}\\right]$$"
      ],
      "text/plain": [
       "⎡    2⋅π    ⎤\n",
       "⎢           ⎥\n",
       "⎢     ___   ⎥\n",
       "⎢-2⋅╲╱ 3 ⋅π ⎥\n",
       "⎢───────────⎥\n",
       "⎢     3     ⎥\n",
       "⎢           ⎥\n",
       "⎣     0     ⎦"
      ]
     },
     "execution_count": 5,
     "metadata": {},
     "output_type": "execute_result"
    }
   ],
   "source": [
    "2*pi*(a3.cross(a1))/( a2.dot( a3.cross(a1) ) )"
   ]
  },
  {
   "cell_type": "code",
   "execution_count": 6,
   "metadata": {
    "collapsed": false
   },
   "outputs": [],
   "source": [
    "a1=Matrix([sqrt(3),1,0])/2\n",
    "a2=Matrix([-sqrt(3),1,0])/2\n",
    "a3=Matrix([0,0,1])"
   ]
  },
  {
   "cell_type": "code",
   "execution_count": 7,
   "metadata": {
    "collapsed": false
   },
   "outputs": [
    {
     "data": {
      "image/png": "[encoded data removed]",
      "text/latex": [
       "$$\\left[\\begin{matrix}\\frac{2 \\pi}{3} \\sqrt{3}\\\\2 \\pi\\\\0\\end{matrix}\\right]$$"
      ],
      "text/plain": [
       "⎡    ___  ⎤\n",
       "⎢2⋅╲╱ 3 ⋅π⎥\n",
       "⎢─────────⎥\n",
       "⎢    3    ⎥\n",
       "⎢         ⎥\n",
       "⎢   2⋅π   ⎥\n",
       "⎢         ⎥\n",
       "⎣    0    ⎦"
      ]
     },
     "execution_count": 7,
     "metadata": {},
     "output_type": "execute_result"
    }
   ],
   "source": [
    "2*pi*(a2.cross(a3))/( a1.dot( a2.cross(a3) ) )"
   ]
  },
  {
   "cell_type": "code",
   "execution_count": 8,
   "metadata": {
    "collapsed": false
   },
   "outputs": [
    {
     "data": {
      "image/png": "[encoded data removed]",
      "text/latex": [
       "$$\\left[\\begin{matrix}- \\frac{2 \\pi}{3} \\sqrt{3}\\\\2 \\pi\\\\0\\end{matrix}\\right]$$"
      ],
      "text/plain": [
       "⎡     ___   ⎤\n",
       "⎢-2⋅╲╱ 3 ⋅π ⎥\n",
       "⎢───────────⎥\n",
       "⎢     3     ⎥\n",
       "⎢           ⎥\n",
       "⎢    2⋅π    ⎥\n",
       "⎢           ⎥\n",
       "⎣     0     ⎦"
      ]
     },
     "execution_count": 8,
     "metadata": {},
     "output_type": "execute_result"
    }
   ],
   "source": [
    "2*pi*(a3.cross(a1))/( a2.dot( a3.cross(a1) ) )"
   ]
  },
  {
   "cell_type": "code",
   "execution_count": null,
   "metadata": {
    "collapsed": true
   },
   "outputs": [],
   "source": []
  }
 ],
 "metadata": {
  "kernelspec": {
   "display_name": "Python 3",
   "language": "python",
   "name": "python3"
  },
  "language_info": {
   "codemirror_mode": {
    "name": "ipython",
    "version": 3
   },
   "file_extension": ".py",
   "mimetype": "text/x-python",
   "name": "python",
   "nbconvert_exporter": "python",
   "pygments_lexer": "ipython3",
   "version": "3.4.0"
  }
 },
 "nbformat": 4,
 "nbformat_minor": 0
}
