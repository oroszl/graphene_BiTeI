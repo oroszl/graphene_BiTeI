{
 "cells": [
  {
   "cell_type": "code",
   "execution_count": 1,
   "metadata": {
    "collapsed": false
   },
   "outputs": [
    {
     "name": "stdout",
     "output_type": "stream",
     "text": [
      "Populating the interactive namespace from numpy and matplotlib\n"
     ]
    },
    {
     "name": "stderr",
     "output_type": "stream",
     "text": [
      ":0: FutureWarning: IPython widgets are experimental and may change in the future.\n"
     ]
    }
   ],
   "source": [
    "%pylab inline\n",
    "#from ipywidgets import *\n",
    "from IPython.html.widgets import *"
   ]
  },
  {
   "cell_type": "code",
   "execution_count": 2,
   "metadata": {
    "collapsed": true
   },
   "outputs": [],
   "source": [
    "S0=matrix([[1,0],[0,1]])\n",
    "S1=matrix([[0,1],[1,0]])\n",
    "S2=matrix([[0,-1j],[1j,0]])\n",
    "S3=matrix([[1,0],[0,-1]])\n",
    "N=zeros_like(S0);\n",
    "I=1.j"
   ]
  },
  {
   "cell_type": "code",
   "execution_count": 3,
   "metadata": {
    "collapsed": true
   },
   "outputs": [],
   "source": [
    "def matafn(h):\n",
    "    'Array flatten a matrix list of appropriate dimensions'\n",
    "    H=hstack(h[0])\n",
    "    for sor in range(1,len(h)):\n",
    "        H=vstack([H,hstack(h[sor])])\n",
    "    return H"
   ]
  },
  {
   "cell_type": "code",
   "execution_count": 4,
   "metadata": {
    "collapsed": true
   },
   "outputs": [],
   "source": [
    "a1=matrix([[sqrt(3)],\n",
    "           [1]])/2\n",
    "a2=matrix([[-sqrt(3)],\n",
    "           [1]])/2\n",
    "\n",
    "def ham(kx,ky,t1,t2,t3,m,mz):\n",
    "    k=matrix([[kx,ky]])\n",
    "    U=matafn([[N,N,N,N,t2*S0,t3*S0],\n",
    "              [N,N,N,t2*S0,t3*S0,N],\n",
    "              [N,N,N,t3*S0,N,t2*S0],\n",
    "              [N,t2*S0,t3*S0,N,N,N],\n",
    "              [t2*S0,t3*S0,N,N,N,N],\n",
    "              [t3*S0,N,t2*S0,N,N,N]])\n",
    "    T1=matafn([[N,N,N,N,N,N],\n",
    "          [N,N,N,N,N,t1*S0+I*mz*S3+I*m/2*(-1*S1+sqrt(3)*S2)],\n",
    "          [N,N,N,N,N,N],\n",
    "          [N,N,N,N,N,N],\n",
    "          [N,N,N,N,N,N],\n",
    "          [N,N,N,N,N,N]])\n",
    "    T2=matafn([[N,N,N,t1*S0+I*mz*S3+I*m/2*(-1*S1-sqrt(3)*S2),N,N],\n",
    "          [N,N,N,N,N,N],\n",
    "          [N,N,N,N,N,N],\n",
    "          [N,N,N,N,N,N],\n",
    "          [N,N,N,N,N,N],\n",
    "          [N,N,N,N,N,N]])\n",
    "    T3=matafn([[N,N,N,N,N,N],\n",
    "          [N,N,N,N,N,N],\n",
    "          [N,N,N,N,N,N],\n",
    "          [N,N,N,N,N,N],\n",
    "          [N,N,t1*S0+I*mz*S3+I*m*S1,N,N,N],\n",
    "          [N,N,N,N,N,N]])\n",
    "    H=U+exp(I*(k*a1)[0,0])*T1+exp(I*(k*a2)[0,0])*T2+exp(I*(k*(a1+a2))[0,0])*T3+\\\n",
    "    (exp(I*(k*a1)[0,0])*T1+exp(I*(k*a2)[0,0])*T2+exp(I*(k*(a1+a2))[0,0])*T3).H\n",
    "    \n",
    "    return H"
   ]
  },
  {
   "cell_type": "code",
   "execution_count": 5,
   "metadata": {
    "collapsed": true
   },
   "outputs": [],
   "source": [
    "krany=linspace(-2*pi,0,300)/50\n",
    "kranx=linspace(0,2*pi/sqrt(3),240)/50\n",
    "kran=append(krany,kranx)"
   ]
  },
  {
   "cell_type": "code",
   "execution_count": 6,
   "metadata": {
    "collapsed": true
   },
   "outputs": [],
   "source": [
    "def play(m=0,mz=0,t1=3):\n",
    "    dat=[]\n",
    "    for kk in krany:\n",
    "        dat.append(eigvalsh(ham(0,kk,t1,3,3,m,mz)))\n",
    "    for kk in kranx:\n",
    "        dat.append(eigvalsh(ham(kk,0,t1,3,3,m,mz)))\n",
    "    plot(kran,dat,'k-');\n",
    "    grid()\n",
    "    xlim(-2*pi,2*pi/sqrt(3));\n",
    "    xticks([-2*pi,-4*pi/3,0,2*pi/sqrt(3)],[r'$M$',r'$K$',r'$\\Gamma$',r'$M$'],fontsize=40);\n",
    "    #yticks(linspace(-9,9,7),list(map(lambda x:r\"$\"+str(x)+r\"\\gamma_0$\" ,(arange(-3,4)) )),fontsize=30)\n",
    "    ylim(-0.025,0.025);\n",
    "    xlim(-0.1,0.1);"
   ]
  },
  {
   "cell_type": "code",
   "execution_count": 7,
   "metadata": {
    "collapsed": false
   },
   "outputs": [
    {
     "data": {
      "image/png": "[encoded data removed]",
      "text/plain": [
       "<matplotlib.figure.Figure at 0x7f6f76e8f588>"
      ]
     },
     "metadata": {},
     "output_type": "display_data"
    }
   ],
   "source": [
    "figsize(4,4)\n",
    "interact(play,m=(-.5,.5,0.001),mz=(-.5,.5,0.001),t1=(2.9,3.1,0.001));"
   ]
  },
  {
   "cell_type": "code",
   "execution_count": 8,
   "metadata": {
    "collapsed": true
   },
   "outputs": [],
   "source": [
    "def wilson_loop(hamfun,*hamargs,\n",
    "                b1=array([2*pi,0]),\n",
    "                b2=array([0,2*pi]),\n",
    "                p1ran=linspace(0,0.5,100),\n",
    "                p2ran=linspace(0,1,7,endpoint=False),\n",
    "                **kwargs):\n",
    "    '''\n",
    "    Calculating Z2 invariant via Wilson loops of slices \n",
    "    of the occupied bands in k-space,\n",
    "    given a function hamfun(kx,ky,*hamargs)\n",
    "    and k space reciprocal lattice vectors b1,b2.\n",
    "    '''\n",
    "    dim=len(hamfun(0,0,*hamargs))\n",
    "    dat=[]\n",
    "    for p1 in p1ran:\n",
    "        WL=eye(dim)\n",
    "        for p2 in p2ran:\n",
    "            kx=(p1*b1+p2*b2)[0]\n",
    "            ky=(p1*b1+p2*b2)[1]\n",
    "            H=hamfun(kx,ky,*hamargs)\n",
    "            eigdat=eigh(H);\n",
    "            P=eigdat[1][:,eigdat[0]<0]*eigdat[1][:,eigdat[0]<0].H\n",
    "            WL=P*WL\n",
    "        weig=eig(WL);\n",
    "        indx=where(abs(weig[0])>10**-10)[0]\n",
    "        dat.append(sort(angle(weig[0][indx])))       \n",
    "        \n",
    "    return  (p1ran,dat)"
   ]
  },
  {
   "cell_type": "code",
   "execution_count": 31,
   "metadata": {
    "collapsed": false
   },
   "outputs": [],
   "source": [
    "ran,dat=wilson_loop(ham,*[3.0,3.0,3,0.231,0.],\n",
    "                    b1=array([-2*pi/sqrt(3),2*pi]),\n",
    "                    b2=array([2*pi/sqrt(3),2*pi]),\n",
    "                   p1ran=linspace(0.0,0.5,500))"
   ]
  },
  {
   "cell_type": "code",
   "execution_count": 32,
   "metadata": {
    "collapsed": false
   },
   "outputs": [
    {
     "data": {
      "image/png": "[encoded data removed]",
      "text/plain": [
       "<matplotlib.figure.Figure at 0x7f6f74dd87b8>"
      ]
     },
     "metadata": {},
     "output_type": "display_data"
    }
   ],
   "source": [
    "subplot(121)\n",
    "plot(ran,dat,'k.');\n",
    "ylim(-pi,pi);\n",
    "subplot(122)\n",
    "for i in range(6):\n",
    "    plot((ran+0.5)*cos(array(dat)[:,i]),\n",
    "         (ran+0.5)*sin(array(dat)[:,i]),'k.')\n",
    "xlim(-1,1)\n",
    "ylim(-1,1);"
   ]
  },
  {
   "cell_type": "code",
   "execution_count": 11,
   "metadata": {
    "collapsed": false
   },
   "outputs": [],
   "source": [
    "a1=matrix([[sqrt(3)],\n",
    "           [1]])/2\n",
    "a2=matrix([[-sqrt(3)],\n",
    "           [1]])/2\n",
    "\n",
    "def ham_2nn(kx,ky,m,mz):  \n",
    "    t=1;\n",
    "    t1=t\n",
    "    t2=t\n",
    "    t3=t\n",
    "    k=matrix([[kx,ky]])\n",
    "    A1=I*m/2*(-S1+sqrt(3)*S2);\n",
    "    A2=I*m/2*(-S1-sqrt(3)*S2);\n",
    "    U=matafn([[N,I*mz*S3,-I*mz*S3,  N,t2*S0,t3*S0+I*m*S1],\n",
    "              [-I*mz*S3,N,I*mz*S3,  t2*S0,t3*S0+A1,N],\n",
    "              [I*mz*S3,-I*mz*S3,N,  t3*S0+A2,N,t2*S0],\n",
    "              [N,t2*S0,t3*S0+A2.H,  N,-I*mz*S3,I*mz*S3],\n",
    "              [t2*S0,t3*S0+A1.H,N,  I*mz*S3,N,-I*mz*S3],\n",
    "              [t3*S0-I*m*S1,N,t2*S0,  -I*mz*S3,I*mz*S3,N]])\n",
    "    T1=matafn([[N,N,N,N,N,N],\n",
    "               [N,N,N,N,N,t1*S0],\n",
    "               [N,N,N,N,N,N],\n",
    "               [N,N,N,N,N,N],\n",
    "               [N,N,N,N,N,N],\n",
    "               [N,N,N,N,N,N]])\n",
    "    T2=matafn([[N,N,N,t1*S0,N,N],\n",
    "          [N,N,N,N,N,N],\n",
    "          [N,N,N,N,N,N],\n",
    "          [N,N,N,N,N,N],\n",
    "          [N,N,N,N,N,N],\n",
    "          [N,N,N,N,N,N]])\n",
    "    T3=matafn([[N,N,N,N,N,N],\n",
    "          [N,N,N,N,N,N],\n",
    "          [N,N,N,N,N,N],\n",
    "          [N,N,N,N,N,N],\n",
    "          [N,N,t1*S0,N,N,N],\n",
    "          [N,N,N,N,N,N]])\n",
    "    \n",
    "    H=U+exp(I*(k*a1)[0,0])*T1+exp(I*(k*a2)[0,0])*T2+exp(I*(k*(a1+a2))[0,0])*T3+\\\n",
    "    (exp(I*(k*a1)[0,0])*T1+exp(I*(k*a2)[0,0])*T2+exp(I*(k*(a1+a2))[0,0])*T3).H\n",
    "    \n",
    "    return H"
   ]
  },
  {
   "cell_type": "code",
   "execution_count": 12,
   "metadata": {
    "collapsed": true
   },
   "outputs": [],
   "source": [
    "krany=linspace(-2*pi,0,300)\n",
    "kranx=linspace(0,2*pi/sqrt(3),240)\n",
    "kran=append(krany,kranx)"
   ]
  },
  {
   "cell_type": "code",
   "execution_count": 13,
   "metadata": {
    "collapsed": false
   },
   "outputs": [
    {
     "data": {
      "image/png": "[encoded data removed]",
      "text/plain": [
       "<matplotlib.figure.Figure at 0x7f6f74a40898>"
      ]
     },
     "metadata": {},
     "output_type": "display_data"
    }
   ],
   "source": [
    "@interact(m=(-1,1,0.01),mz=(0,.2,0.001))\n",
    "def play_2nn(m=0.2,mz=0):\n",
    "    dat=[]\n",
    "    for kk in krany:\n",
    "        dat.append(eigvalsh(ham_2nn(0,kk,m,mz)))\n",
    "    for kk in kranx:\n",
    "        dat.append(eigvalsh(ham_2nn(kk,0,m,mz)))\n",
    "    plot(kran,dat,'k-');\n",
    "    grid()\n",
    "    xlim(-2*pi,2*pi/sqrt(3));\n",
    "    xticks([-2*pi,-4*pi/3,0,2*pi/sqrt(3)],[r'$M$',r'$K$',r'$\\Gamma$',r'$M$'],fontsize=40);\n",
    "    #yticks(linspace(-9,9,7),list(map(lambda x:r\"$\"+str(x)+r\"\\gamma_0$\" ,(arange(-3,4)) )),fontsize=30)\n",
    "    ylim(-.2,.2);\n",
    "    #xlim(-0.1,0.1);"
   ]
  },
  {
   "cell_type": "code",
   "execution_count": 16,
   "metadata": {
    "collapsed": false
   },
   "outputs": [],
   "source": [
    "ran,dat=wilson_loop(ham_2nn,*[0.74,0.076],\n",
    "                    b1=2*pi*array([1/sqrt(3),1]),\n",
    "                    b2=2*pi*array([-1/sqrt(3),1]),\n",
    "                    p1ran=log(logspace(0.000001,.5,1000,base=exp(1))))\n"
   ]
  },
  {
   "cell_type": "code",
   "execution_count": 17,
   "metadata": {
    "collapsed": false
   },
   "outputs": [
    {
     "data": {
      "image/png": "[encoded data removed]",
      "text/plain": [
       "<matplotlib.figure.Figure at 0x7f6f74902940>"
      ]
     },
     "metadata": {},
     "output_type": "display_data"
    }
   ],
   "source": [
    "figsize(8,4)\n",
    "subplot(121)\n",
    "plot(ran,dat,'k-');\n",
    "subplot(122)\n",
    "for i in range(6):\n",
    "    plot((ran+0.5)*cos(array(dat)[:,i]),\n",
    "         (ran+0.5)*sin(array(dat)[:,i]),'k-')\n",
    "xlim(-1,1)\n",
    "ylim(-1,1);"
   ]
  },
  {
   "cell_type": "code",
   "execution_count": 18,
   "metadata": {
    "collapsed": false
   },
   "outputs": [],
   "source": [
    "ran,dat=wilson_loop(ham_2nn,*[0.0,0.03],\n",
    "                    b1=2*pi*array([1/sqrt(3),1]),\n",
    "                    b2=2*pi*array([-1/sqrt(3),1]),\n",
    "                    p1ran=log(logspace(0.000001,.5,1000,base=exp(1))))\n"
   ]
  },
  {
   "cell_type": "code",
   "execution_count": 20,
   "metadata": {
    "collapsed": false
   },
   "outputs": [
    {
     "data": {
      "image/png": "[encoded data removed]",
      "text/plain": [
       "<matplotlib.figure.Figure at 0x7f6f74d12ba8>"
      ]
     },
     "metadata": {},
     "output_type": "display_data"
    }
   ],
   "source": [
    "figsize(8,4)\n",
    "subplot(121)\n",
    "plot(ran,dat,'k-');\n",
    "ylim(-pi,pi)\n",
    "subplot(122)\n",
    "for i in range(6):\n",
    "    plot((ran+0.5)*cos(array(dat)[:,i]),\n",
    "         (ran+0.5)*sin(array(dat)[:,i]),'k-')\n",
    "xlim(-1,1)\n",
    "ylim(-1,1);"
   ]
  },
  {
   "cell_type": "code",
   "execution_count": null,
   "metadata": {
    "collapsed": true
   },
   "outputs": [],
   "source": []
  }
 ],
 "metadata": {
  "kernelspec": {
   "display_name": "Python 3",
   "language": "python",
   "name": "python3"
  },
  "language_info": {
   "codemirror_mode": {
    "name": "ipython",
    "version": 3
   },
   "file_extension": ".py",
   "mimetype": "text/x-python",
   "name": "python",
   "nbconvert_exporter": "python",
   "pygments_lexer": "ipython3",
   "version": "3.4.0"
  }
 },
 "nbformat": 4,
 "nbformat_minor": 0
}
